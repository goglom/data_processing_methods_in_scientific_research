{
  "nbformat": 4,
  "nbformat_minor": 0,
  "metadata": {
    "colab": {
      "name": "problem_2_convolution.ipynb",
      "provenance": [],
      "include_colab_link": true
    },
    "kernelspec": {
      "name": "python3",
      "display_name": "Python 3"
    }
  },
  "cells": [
    {
      "cell_type": "markdown",
      "metadata": {
        "id": "view-in-github",
        "colab_type": "text"
      },
      "source": [
        "<a href=\"https://colab.research.google.com/github/goglom/data_processing_methods_in_scientific_research/blob/main/problem_2/problem_2_convolution.ipynb\" target=\"_parent\"><img src=\"https://colab.research.google.com/assets/colab-badge.svg\" alt=\"Open In Colab\"/></a>"
      ]
    },
    {
      "cell_type": "code",
      "metadata": {
        "id": "_24ZjXcr8TbF"
      },
      "source": [
        "import numpy as np\r\n",
        "import matplotlib.pyplot as plt"
      ],
      "execution_count": null,
      "outputs": []
    },
    {
      "cell_type": "code",
      "metadata": {
        "id": "6UV-fJU38gi3"
      },
      "source": [
        "def convolution(x, h):\r\n",
        "  [N, M] = map(len, [x, h])\r\n",
        "  result = np.zeros(N + M - 1)\r\n",
        "\r\n",
        "  for i in range(N):\r\n",
        "    for j in range(M):\r\n",
        "      result[i + j] += x[i] * h[j]\r\n",
        "\r\n",
        "  return result"
      ],
      "execution_count": null,
      "outputs": []
    },
    {
      "cell_type": "code",
      "metadata": {
        "id": "ZgBJzX0z86FO"
      },
      "source": [
        "assert np.all(convolution([1,2,3],[4,5,6,7]) == convolution([4,5,6,7],[1,2,3]))"
      ],
      "execution_count": null,
      "outputs": []
    },
    {
      "cell_type": "code",
      "metadata": {
        "id": "Z7XlXq0fK8Er"
      },
      "source": [
        "def convolution_fft(x, h):\r\n",
        "  [N, M] = map(len, [x, h])\r\n",
        "  x_wide = np.zeros(N + M - 1)\r\n",
        "  h_wide = np.zeros(N + M - 1)\r\n",
        "  x_wide[:N] = x\r\n",
        "  h_wide[:M] = h\r\n",
        "\r\n",
        "  return np.real(np.fft.ifft(np.fft.fft(x_wide) * np.fft.fft(h_wide)))"
      ],
      "execution_count": null,
      "outputs": []
    },
    {
      "cell_type": "code",
      "metadata": {
        "colab": {
          "base_uri": "https://localhost:8080/",
          "height": 281
        },
        "id": "qbu1z7c9zSMP",
        "outputId": "374fc9ac-2d1b-4c27-b5a0-422865729e7d"
      },
      "source": [
        "def rectangle(x):\r\n",
        "  A = 1\r\n",
        "  bound = 0.5\r\n",
        "  if -bound < x < bound:\r\n",
        "    return A\r\n",
        "  else:\r\n",
        "    return 0\r\n",
        "\r\n",
        "def convo(x):\r\n",
        "  fog = 0\r\n",
        "  xt = -5\r\n",
        "  dx = 0.01\r\n",
        "  while xt < 5:\r\n",
        "    fog += rectangle(xt) * rectangle(x-xt) * dx\r\n",
        "    xt += dx\r\n",
        "  return fog\r\n",
        "\r\n",
        "\r\n",
        "dt = 0.05\r\n",
        "t = np.arange(-5, 5, dt)\r\n",
        "conv = t.copy()\r\n",
        "conv = [convo(conv[i]) for i in range(conv.shape[0])]\r\n",
        "\r\n",
        "plt.plot(t, conv, 'b') \r\n"
      ],
      "execution_count": null,
      "outputs": [
        {
          "output_type": "execute_result",
          "data": {
            "text/plain": [
              "[<matplotlib.lines.Line2D at 0x7f8886d8d310>]"
            ]
          },
          "metadata": {
            "tags": []
          },
          "execution_count": 5
        },
        {
          "output_type": "display_data",
          "data": {
            "image/png": "[encoded data removed]",
            "text/plain": [
              "<Figure size 432x288 with 1 Axes>"
            ]
          },
          "metadata": {
            "tags": [],
            "needs_background": "light"
          }
        }
      ]
    },
    {
      "cell_type": "markdown",
      "metadata": {
        "id": "XiZ02Q2G_T8s"
      },
      "source": [
        "# Прямоугольные сигналы\r\n"
      ]
    },
    {
      "cell_type": "code",
      "metadata": {
        "id": "HZ88SsNJCUv5"
      },
      "source": [
        "class Rect:\r\n",
        "  def __init__(self, l_bound, r_bound):\r\n",
        "    self.lb = l_bound\r\n",
        "    self.rb = r_bound\r\n",
        "\r\n",
        "  \r\n",
        "  def __call__(self, x: np.array) -> float:\r\n",
        "    result = np.zeros_like(x)\r\n",
        "    for i in range(x.shape[0]):\r\n",
        "      if x[i] > self.lb and x[i] < self.rb:\r\n",
        "        result[i] = 1.0\r\n",
        "\r\n",
        "    return result"
      ],
      "execution_count": null,
      "outputs": []
    },
    {
      "cell_type": "code",
      "metadata": {
        "colab": {
          "base_uri": "https://localhost:8080/",
          "height": 561
        },
        "id": "0pbc5hUo_ass",
        "outputId": "fb3749ca-ed9f-49e8-9032-3040b797968a"
      },
      "source": [
        "timestep = 0.2\r\n",
        "\r\n",
        "start, stop = 0, 10\r\n",
        "t = np.arange(start, stop, timestep)\r\n",
        "\r\n",
        "rect = Rect(3.5, 4.5)\r\n",
        "x = rect(t)\r\n",
        "\r\n",
        "rect = Rect(5.5, 6.5)\r\n",
        "h = rect(t)\r\n",
        "\r\n",
        "\r\n",
        "plt.figure(1)\r\n",
        "plt.title(\"Signals\")\r\n",
        "plt.plot(t, x)\r\n",
        "plt.plot(t, h)\r\n",
        "\r\n",
        "plt.figure(2)\r\n",
        "plt.title(\"Convolution\")\r\n",
        "plt.plot(convolution(x, h) * timestep, label=\"Straight Convolution\")\r\n",
        "plt.plot(convolution_fft(x, h) * timestep, label=\"Fourier Convolution\")\r\n",
        "plt.legend()\r\n"
      ],
      "execution_count": null,
      "outputs": [
        {
          "output_type": "execute_result",
          "data": {
            "text/plain": [
              "<matplotlib.legend.Legend at 0x7f88786bb750>"
            ]
          },
          "metadata": {
            "tags": []
          },
          "execution_count": 30
        },
        {
          "output_type": "display_data",
          "data": {
            "image/png": "[encoded data removed]",
            "text/plain": [
              "<Figure size 432x288 with 1 Axes>"
            ]
          },
          "metadata": {
            "tags": [],
            "needs_background": "light"
          }
        },
        {
          "output_type": "display_data",
          "data": {
            "image/png": "[encoded data removed]",
            "text/plain": [
              "<Figure size 432x288 with 1 Axes>"
            ]
          },
          "metadata": {
            "tags": [],
            "needs_background": "light"
          }
        }
      ]
    }
  ]
}